{
 "cells": [
  {
   "cell_type": "code",
   "execution_count": 2,
   "metadata": {
    "id": "UfBa0wIVkbwV"
   },
   "outputs": [],
   "source": [
    "%matplotlib inline\n",
    "\n",
    "from urllib.request import urlretrieve\n",
    "\n",
    "import nengo\n",
    "import tensorflow as tf\n",
    "import numpy as np\n",
    "import matplotlib.pyplot as plt\n",
    "\n",
    "import nengo_dl"
   ]
  },
  {
   "cell_type": "code",
   "execution_count": 3,
   "metadata": {
    "colab": {
     "base_uri": "https://localhost:8080/",
     "height": 380
    },
    "id": "hLj9Oe-kkcGi",
    "outputId": "c6e63880-aa7d-4358-be4e-271e3a48b690"
   },
   "outputs": [
    {
     "data": {
      "image/png": "[encoded data removed]",
      "text/plain": [
       "<Figure size 864x288 with 3 Axes>"
      ]
     },
     "metadata": {
      "needs_background": "light"
     },
     "output_type": "display_data"
    }
   ],
   "source": [
    "(train_images, train_labels), (\n",
    "    test_images,\n",
    "    test_labels,\n",
    ") = tf.keras.datasets.mnist.load_data()\n",
    "\n",
    "# flatten images\n",
    "train_images = train_images.reshape((train_images.shape[0], -1))\n",
    "test_images = test_images.reshape((test_images.shape[0], -1))\n",
    "\n",
    "plt.figure(figsize=(12, 4))\n",
    "for i in range(3):\n",
    "    plt.subplot(1, 3, i + 1)\n",
    "    plt.imshow(np.reshape(train_images[i], (28, 28)), cmap=\"gray\")\n",
    "    plt.axis(\"off\")\n",
    "    plt.title(str(train_labels[i]))"
   ]
  },
  {
   "cell_type": "code",
   "execution_count": 4,
   "metadata": {
    "id": "ytjgGzU2kgED"
   },
   "outputs": [],
   "source": [
    "with nengo.Network(seed=42) as net:\n",
    "    # set some default parameters for the neurons that will make\n",
    "    # the training progress more smoothly\n",
    "    net.config[nengo.Ensemble].max_rates = nengo.dists.Choice([100])\n",
    "    net.config[nengo.Ensemble].intercepts = nengo.dists.Choice([0])\n",
    "    net.config[nengo.Connection].synapse = None\n",
    "    neuron_type = nengo.LIF(amplitude=0.01)\n",
    "\n",
    "    # this is an optimization to improve the training speed,\n",
    "    # since we won't require stateful behaviour in this example\n",
    "    nengo_dl.configure_settings(stateful=False)\n",
    "\n",
    "    # the input node that will be used to feed in input images\n",
    "    inp = nengo.Node(np.zeros(28 * 28))\n",
    "\n",
    "    # add the first convolutional layer\n",
    "    x = nengo_dl.Layer(tf.keras.layers.Conv2D(filters=32, kernel_size=3))(\n",
    "        inp, shape_in=(28, 28, 1)\n",
    "    )\n",
    "    x = nengo_dl.Layer(neuron_type)(x)\n",
    "\n",
    "    # add the second convolutional layer\n",
    "    x = nengo_dl.Layer(tf.keras.layers.Conv2D(filters=64, strides=2, kernel_size=3))(\n",
    "        x, shape_in=(26, 26, 32)\n",
    "    )\n",
    "    x = nengo_dl.Layer(neuron_type)(x)\n",
    "\n",
    "    # add the third convolutional layer\n",
    "    x = nengo_dl.Layer(tf.keras.layers.Conv2D(filters=128, strides=2, kernel_size=3))(\n",
    "        x, shape_in=(12, 12, 64)\n",
    "    )\n",
    "    x = nengo_dl.Layer(neuron_type)(x)\n",
    "\n",
    "    # linear readout\n",
    "    out = nengo_dl.Layer(tf.keras.layers.Dense(units=10))(x)\n",
    "\n",
    "    # we'll create two different output probes, one with a filter\n",
    "    # (for when we're simulating the network over time and\n",
    "    # accumulating spikes), and one without (for when we're\n",
    "    # training the network using a rate-based approximation)\n",
    "    out_p = nengo.Probe(out, label=\"out_p\")\n",
    "    out_p_filt = nengo.Probe(out, synapse=0.1, label=\"out_p_filt\")"
   ]
  },
  {
   "cell_type": "code",
   "execution_count": 5,
   "metadata": {
    "colab": {
     "base_uri": "https://localhost:8080/"
    },
    "id": "MYSwBQdgkiok",
    "outputId": "3f448b42-037a-4079-dd52-d7297215eec6"
   },
   "outputs": [
    {
     "name": "stdout",
     "output_type": "stream",
     "text": [
      "Build finished in 0:00:00                                                      \n",
      "Optimization finished in 0:00:00                                               \n",
      "|           Constructing graph: pre-build stage (0%)           | ETA:  --:--:--"
     ]
    },
    {
     "name": "stderr",
     "output_type": "stream",
     "text": [
      "/opt/homebrew/Caskroom/miniforge/base/envs/ibmi_env/lib/python3.8/site-packages/nengo_dl/simulator.py:460: UserWarning: No GPU support detected. See https://www.nengo.ai/nengo-dl/installation.html#installing-tensorflow for instructions on setting up TensorFlow with GPU support.\n",
      "  warnings.warn(\n"
     ]
    },
    {
     "name": "stdout",
     "output_type": "stream",
     "text": [
      "Construction finished in 0:00:00                                               \n"
     ]
    }
   ],
   "source": [
    "minibatch_size = 100\n",
    "sim = nengo_dl.Simulator(net, minibatch_size=minibatch_size)"
   ]
  },
  {
   "cell_type": "code",
   "execution_count": 6,
   "metadata": {
    "id": "kKb9blunkk8F"
   },
   "outputs": [],
   "source": [
    "# add single timestep to training data\n",
    "# train_images = train_images[:, None, :]\n",
    "# train_labels = train_labels[:, None, None]\n",
    "\n",
    "# when testing our network with spiking neurons we will need to run it\n",
    "# over time, so we repeat the input/target data for a number of\n",
    "# timesteps.\n",
    "n_steps = 30\n",
    "\n",
    "train_images = np.tile(train_images[:, None, :], (1, n_steps, 1))\n",
    "train_labels = np.tile(train_labels[:, None, None], (1, n_steps, 1))\n",
    "\n",
    "test_images = np.tile(test_images[:, None, :], (1, n_steps, 1))\n",
    "test_labels = np.tile(test_labels[:, None, None], (1, n_steps, 1))"
   ]
  },
  {
   "cell_type": "code",
   "execution_count": 7,
   "metadata": {
    "colab": {
     "base_uri": "https://localhost:8080/"
    },
    "id": "2JN4MwEQkmra",
    "outputId": "c0b23f20-03bd-4d2f-9a18-2d7379d555b4"
   },
   "outputs": [
    {
     "name": "stdout",
     "output_type": "stream",
     "text": [
      "100/100 [==============================] - 219s 2s/step - loss: 0.1098 - out_p_filt_loss: 0.1098\n",
      "Accuracy before training (Test set): 0.11349999904632568\n"
     ]
    }
   ],
   "source": [
    "def classification_accuracy(y_true, y_pred):\n",
    "    return tf.metrics.sparse_categorical_accuracy(y_true[:, -1], \n",
    "                                                  y_pred[:, -1])\n",
    "\n",
    "\n",
    "# note that we use `out_p_filt` when testing (to reduce the spike noise)\n",
    "sim.compile(loss={out_p_filt: classification_accuracy})\n",
    "# print(\n",
    "#     \"Accuracy before training (Training set):\",\n",
    "#     sim.evaluate(train_images, {out_p_filt: train_labels}, verbose=0)[\"loss\"],\n",
    "# )\n",
    "\n",
    "print(\n",
    "    \"Accuracy before training (Test set):\",\n",
    "    sim.evaluate(test_images, {out_p_filt: test_labels}, \n",
    "                 verbose=1)[\"loss\"],\n",
    ")"
   ]
  },
  {
   "cell_type": "code",
   "execution_count": 8,
   "metadata": {
    "colab": {
     "base_uri": "https://localhost:8080/"
    },
    "id": "EldGOkqQkoH2",
    "outputId": "9c76e914-9ba7-438e-fa2f-e2c11086fc00"
   },
   "outputs": [],
   "source": [
    "do_training = False\n",
    "weight_param = 'self' # the other value is pre\n",
    "if do_training:\n",
    "    # run training\n",
    "    sim.compile(\n",
    "        optimizer=tf.optimizers.RMSprop(0.001),\n",
    "        loss={out_p: tf.losses.SparseCategoricalCrossentropy(from_logits=True)},\n",
    "    )\n",
    "    sim.fit(train_images, {out_p: train_labels}, epochs=5)\n",
    "\n",
    "    # save the parameters to file\n",
    "    sim.save_params(\"./mnist_params_self\")\n",
    "else:\n",
    "    # download pretrained weights\n",
    "    urlretrieve(\n",
    "        \"https://drive.google.com/uc?export=download&\"\n",
    "        \"id=1l5aivQljFoXzPP5JVccdFXbOYRv3BCJR\",\n",
    "        \"mnist_params_pretrained.npz\",\n",
    "    )\n",
    "\n",
    "    # load parameters\n",
    "    if weight_param == 'self':\n",
    "        sim.load_params('./mnist_params_self')\n",
    "    else:\n",
    "        sim.load_params(\"./mnist_params_pretrained\")"
   ]
  },
  {
   "cell_type": "code",
   "execution_count": 9,
   "metadata": {
    "id": "RqgP5U4GkqWe"
   },
   "outputs": [
    {
     "name": "stdout",
     "output_type": "stream",
     "text": [
      "100/100 [==============================] - 244s 2s/step - loss: 0.9830 - out_p_filt_loss: 0.9830\n",
      "Accuracy after training (Test set): 0.9857000112533569\n"
     ]
    }
   ],
   "source": [
    "sim.compile(loss={out_p_filt: classification_accuracy})\n",
    "\n",
    "# print(\n",
    "#     \"Accuracy after training (Training set):\",\n",
    "#     sim.evaluate(train_images, {out_p_filt: train_labels}, verbose=0)[\"loss\"],\n",
    "# )\n",
    "\n",
    "print(\n",
    "    \"Accuracy after training (Test set):\",\n",
    "    sim.evaluate(test_images, {out_p_filt: test_labels}, \n",
    "                 verbose=1)[\"loss\"],\n",
    ")"
   ]
  },
  {
   "cell_type": "code",
   "execution_count": 10,
   "metadata": {
    "id": "oIB5JsW1ksSM"
   },
   "outputs": [
    {
     "name": "stdout",
     "output_type": "stream",
     "text": [
      "10000\n",
      "2onstructing graph: build stage finished in 0:00:00                            \n"
     ]
    },
    {
     "data": {
      "image/png": "[encoded data removed]",
      "text/plain": [
       "<Figure size 576x288 with 2 Axes>"
      ]
     },
     "metadata": {
      "needs_background": "light"
     },
     "output_type": "display_data"
    },
    {
     "data": {
      "image/png": "[encoded data removed]",
      "text/plain": [
       "<Figure size 576x288 with 2 Axes>"
      ]
     },
     "metadata": {
      "needs_background": "light"
     },
     "output_type": "display_data"
    }
   ],
   "source": [
    "print(len(test_images))\n",
    "data = sim.predict(test_images[:minibatch_size])\n",
    "print(len(data))\n",
    "for i in range(2):\n",
    "    plt.figure(figsize=(8, 4))\n",
    "    plt.subplot(1, 2, 1)\n",
    "    plt.imshow(test_images[i, 0].reshape((28, 28)), cmap=\"gray\")\n",
    "    plt.axis(\"off\")\n",
    "\n",
    "    plt.subplot(1, 2, 2)\n",
    "    plt.plot(tf.nn.softmax(data[out_p_filt][i]))\n",
    "    plt.legend([str(i) for i in range(10)], loc=\"upper left\")\n",
    "    plt.xlabel(\"timesteps\")\n",
    "    plt.ylabel(\"probability\")\n",
    "    plt.tight_layout()"
   ]
  },
  {
   "cell_type": "code",
   "execution_count": 12,
   "metadata": {
    "id": "AZY1kRPxgbB5"
   },
   "outputs": [
    {
     "name": "stdout",
     "output_type": "stream",
     "text": [
      "6 5\n"
     ]
    },
    {
     "data": {
      "image/png": "[encoded data removed]",
      "text/plain": [
       "<Figure size 1080x1440 with 10 Axes>"
      ]
     },
     "metadata": {
      "needs_background": "light"
     },
     "output_type": "display_data"
    }
   ],
   "source": [
    "from numpy.random import randint\n",
    "from collections import namedtuple\n",
    "import pandas as pd\n",
    "\n",
    "l = list(range(10))\n",
    "list_length = len(l)\n",
    "vision_inputs_file = 'vision_output_list_length_{}.csv'.format(list_length)\n",
    "vision_inputs_image = 'vision_output_list_length_{}.png'.format(list_length)\n",
    "\n",
    "fig = plt.figure(figsize=(15, 2 * list_length))\n",
    "if list_length > 10:\n",
    "    print('List length should be <= 10')\n",
    "else:\n",
    "#     idx = randint(0, 100, list_length)\n",
    "    idx = []\n",
    "    for item in l:\n",
    "        for i in range(100):\n",
    "            if test_labels[i][0][0] == item:\n",
    "                idx.append(i)\n",
    "                break\n",
    "    # print(idx)\n",
    "    filter_preds = data[out_p][idx]\n",
    "    pred_mapping = [('pred', 'true')]\n",
    "    numbers = []\n",
    "    for j, i in enumerate(idx):\n",
    "        plt.subplot(2, 10, j+1)\n",
    "        plt.imshow(test_images[i, 0].reshape((28, 28)), cmap=\"gray\")\n",
    "        plt.axis('off')\n",
    "        pred = tf.nn.softmax(data[out_p][i])\n",
    "        pred = int(tf.math.argmax(pred[0]))\n",
    "        pred_mapping.append((pred, test_labels[i][0][0]))\n",
    "        numbers.append(pred)\n",
    "        if pred != test_labels[i][0][0]:\n",
    "            print(pred, test_labels[i][0][0])\n",
    "\n",
    "'''Uncomment the below line to save the input image figures'''\n",
    "# fig.savefig(vision_inputs_image)\n",
    "plt.show()\n",
    "\n",
    "'''Code to save the output of the vision system'''\n",
    "pd.DataFrame(np.array(pred_mapping[1:]), \n",
    "             columns=pred_mapping[0]).to_csv(vision_inputs_file, \n",
    "                                             index=False)"
   ]
  },
  {
   "cell_type": "code",
   "execution_count": 13,
   "metadata": {},
   "outputs": [
    {
     "data": {
      "text/html": [
       "<div>\n",
       "<style scoped>\n",
       "    .dataframe tbody tr th:only-of-type {\n",
       "        vertical-align: middle;\n",
       "    }\n",
       "\n",
       "    .dataframe tbody tr th {\n",
       "        vertical-align: top;\n",
       "    }\n",
       "\n",
       "    .dataframe thead th {\n",
       "        text-align: right;\n",
       "    }\n",
       "</style>\n",
       "<table border=\"1\" class=\"dataframe\">\n",
       "  <thead>\n",
       "    <tr style=\"text-align: right;\">\n",
       "      <th></th>\n",
       "      <th>pred</th>\n",
       "      <th>true</th>\n",
       "    </tr>\n",
       "  </thead>\n",
       "  <tbody>\n",
       "    <tr>\n",
       "      <th>0</th>\n",
       "      <td>0</td>\n",
       "      <td>0</td>\n",
       "    </tr>\n",
       "    <tr>\n",
       "      <th>1</th>\n",
       "      <td>1</td>\n",
       "      <td>1</td>\n",
       "    </tr>\n",
       "    <tr>\n",
       "      <th>2</th>\n",
       "      <td>2</td>\n",
       "      <td>2</td>\n",
       "    </tr>\n",
       "    <tr>\n",
       "      <th>3</th>\n",
       "      <td>3</td>\n",
       "      <td>3</td>\n",
       "    </tr>\n",
       "    <tr>\n",
       "      <th>4</th>\n",
       "      <td>4</td>\n",
       "      <td>4</td>\n",
       "    </tr>\n",
       "    <tr>\n",
       "      <th>5</th>\n",
       "      <td>6</td>\n",
       "      <td>5</td>\n",
       "    </tr>\n",
       "    <tr>\n",
       "      <th>6</th>\n",
       "      <td>6</td>\n",
       "      <td>6</td>\n",
       "    </tr>\n",
       "    <tr>\n",
       "      <th>7</th>\n",
       "      <td>7</td>\n",
       "      <td>7</td>\n",
       "    </tr>\n",
       "    <tr>\n",
       "      <th>8</th>\n",
       "      <td>8</td>\n",
       "      <td>8</td>\n",
       "    </tr>\n",
       "    <tr>\n",
       "      <th>9</th>\n",
       "      <td>9</td>\n",
       "      <td>9</td>\n",
       "    </tr>\n",
       "  </tbody>\n",
       "</table>\n",
       "</div>"
      ],
      "text/plain": [
       "   pred  true\n",
       "0     0     0\n",
       "1     1     1\n",
       "2     2     2\n",
       "3     3     3\n",
       "4     4     4\n",
       "5     6     5\n",
       "6     6     6\n",
       "7     7     7\n",
       "8     8     8\n",
       "9     9     9"
      ]
     },
     "execution_count": 13,
     "metadata": {},
     "output_type": "execute_result"
    }
   ],
   "source": [
    "vision_output = pd.read_csv(vision_inputs_file)\n",
    "vision_output"
   ]
  }
 ],
 "metadata": {
  "accelerator": "GPU",
  "colab": {
   "collapsed_sections": [],
   "name": "MNIST NENGO.ipynb",
   "provenance": []
  },
  "kernelspec": {
   "display_name": "Python 3.8.5 ('ibmi_env')",
   "language": "python",
   "name": "python3"
  },
  "language_info": {
   "codemirror_mode": {
    "name": "ipython",
    "version": 3
   },
   "file_extension": ".py",
   "mimetype": "text/x-python",
   "name": "python",
   "nbconvert_exporter": "python",
   "pygments_lexer": "ipython3",
   "version": "3.8.5"
  },
  "vscode": {
   "interpreter": {
    "hash": "8e272c70f596d9e7c752f6011614958e4664dee7eb07f03529205e92ecfa8fef"
   }
  }
 },
 "nbformat": 4,
 "nbformat_minor": 1
}
